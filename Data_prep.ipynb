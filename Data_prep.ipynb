{
 "cells": [
  {
   "cell_type": "code",
   "execution_count": null,
   "metadata": {},
   "outputs": [],
   "source": [
    "import os\n",
    "import glob\n",
    "import numpy as np\n",
    "import pandas as pd\n",
    "import matplotlib.pyplot as plt\n",
    "import cv2\n",
    "from PIL import Image\n",
    "from collections import defaultdict\n",
    "import tifffile as tif\n",
    "from torch.utils.data import Dataset, DataLoader, Sampler, BatchSampler\n",
    "from sklearn.model_selection import train_test_split\n",
    "import geopandas as gpd\n",
    "from shapely.geometry import box\n",
    "import rasterio\n",
    "from rasterio.features import rasterize\n",
    "\n"
   ]
  },
  {
   "cell_type": "code",
   "execution_count": null,
   "metadata": {},
   "outputs": [],
   "source": [
    "Train_images_path = 'Train_Data'\n",
    "Train_polygons_path = 'build_poly'  \n",
    "\n",
    "def Data_mapping(images, masks):\n",
    "\n",
    "\n",
    "    image_files = sorted(glob.glob(os.path.join(images, '*.tif')))\n",
    "    mask_files = sorted(glob.glob(os.path.join(masks, '*.geojson')))\n",
    "\n",
    "    if len(image_files) != len(mask_files):\n",
    "        raise ValueError(\"Number of image files and mask files do not match\")\n",
    "    \n",
    "    linked_files = [{'image': img_file, 'polygons': mask_file} for img_file, mask_file in zip(image_files, mask_files)]\n",
    "    \n",
    "    return linked_files\n",
    "\n",
    "DATA_list = Data_mapping(Train_images_path, Train_polygons_path)\n",
    "DATA_list[500]\n"
   ]
  },
  {
   "cell_type": "code",
   "execution_count": null,
   "metadata": {},
   "outputs": [],
   "source": [
    "def process_image_and_mask(data_entry):\n",
    "    image_path = data_entry['image']\n",
    "    geojson_path = data_entry['polygons']\n",
    "\n",
    "    polygons = gpd.read_file(geojson_path)\n",
    "\n",
    "    with rasterio.open(image_path) as src:\n",
    "        image_shape = (src.height, src.width)\n",
    "        transform = src.transform\n",
    "        raster_crs = src.crs\n",
    "\n",
    "    polygons = polygons.to_crs(raster_crs)\n",
    "\n",
    "    mask = rasterize(\n",
    "        [(geom, 1) for geom in polygons.geometry],\n",
    "        out_shape=image_shape,\n",
    "        transform=transform,\n",
    "        fill=0,\n",
    "        dtype='uint8'\n",
    "    )\n",
    "\n",
    "    with rasterio.open(image_path) as src:\n",
    "        image = src.read().astype(np.float32)\n",
    "        image /= image.max()  # Normalisation\n",
    "\n",
    "    return image.transpose(1, 2, 0), mask\n",
    "\n",
    "def process_dataset(data_list):\n",
    "    images = []\n",
    "    masks = []\n",
    "    for data_entry in data_list:\n",
    "        image, mask = process_image_and_mask(data_entry)\n",
    "        images.append(image)\n",
    "        masks.append(mask)\n",
    "    return images, masks\n",
    "\n",
    "\n",
    "data_image, data_mask = process_dataset(DATA_list)"
   ]
  },
  {
   "cell_type": "code",
   "execution_count": null,
   "metadata": {},
   "outputs": [],
   "source": [
    "def resize_images(images, target_size=512):\n",
    "    \"\"\"\n",
    "    Redimensionne les images pour qu'elles aient des dimensions multiples de 32.\n",
    "    Args:\n",
    "        images (list): Liste des images.\n",
    "        target_size (int): Taille cible.\n",
    "    Returns:\n",
    "        np.ndarray: Images redimensionnées.\n",
    "    \"\"\"\n",
    "    resized_images = [cv2.resize(img, (target_size, target_size)) for img in images]\n",
    "    return resized_images\n",
    "\n",
    "def resize_masks(masks, target_size=512):\n",
    "    \"\"\"\n",
    "    Redimensionne les masques pour qu'ils aient des dimensions multiples de 32.\n",
    "    Args:\n",
    "        masks (list): Liste des masques.\n",
    "        target_size (int): Taille cible.\n",
    "    Returns:\n",
    "        np.ndarray: Masques redimensionnés.\n",
    "    \"\"\"\n",
    "    resized_masks = [cv2.resize(mask, (target_size, target_size), interpolation=cv2.INTER_NEAREST) for mask in masks]\n",
    "    return resized_masks\n",
    "\n",
    "data_image = resize_images(data_image)\n",
    "data_mask = resize_masks(data_mask)\n",
    "\n",
    "print(\"Image shape after resizing:\", data_image[0].shape)\n",
    "\n",
    "print(\"Mask shape after resizing:\", data_mask[0].shape)"
   ]
  },
  {
   "cell_type": "code",
   "execution_count": null,
   "metadata": {},
   "outputs": [],
   "source": [
    "x1=np.array(data_image)\n",
    "x2=np.array(data_mask)"
   ]
  },
  {
   "cell_type": "code",
   "execution_count": null,
   "metadata": {},
   "outputs": [],
   "source": [
    "np.save('x1.npy', x1)\n",
    "np.save('x2.npy', x2)"
   ]
  }
 ],
 "metadata": {
  "kernelspec": {
   "display_name": "bdt",
   "language": "python",
   "name": "python3"
  },
  "language_info": {
   "codemirror_mode": {
    "name": "ipython",
    "version": 3
   },
   "file_extension": ".py",
   "mimetype": "text/x-python",
   "name": "python",
   "nbconvert_exporter": "python",
   "pygments_lexer": "ipython3",
   "version": "3.12.8"
  }
 },
 "nbformat": 4,
 "nbformat_minor": 2
}
